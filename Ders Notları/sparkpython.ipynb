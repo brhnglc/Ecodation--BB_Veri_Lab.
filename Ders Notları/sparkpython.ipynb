{
 "cells": [
  {
   "cell_type": "code",
   "execution_count": 1,
   "id": "67f1f068",
   "metadata": {},
   "outputs": [],
   "source": [
    "#!pip install findspark"
   ]
  },
  {
   "cell_type": "code",
   "execution_count": 2,
   "id": "facdca1a",
   "metadata": {},
   "outputs": [],
   "source": [
    "import findspark\n",
    "findspark.init()"
   ]
  },
  {
   "cell_type": "code",
   "execution_count": 3,
   "id": "aba1c6f0",
   "metadata": {},
   "outputs": [],
   "source": [
    "from pyspark.sql import SparkSession\n",
    "from pyspark.conf import SparkConf"
   ]
  },
  {
   "cell_type": "code",
   "execution_count": 4,
   "id": "379019ed",
   "metadata": {},
   "outputs": [],
   "source": [
    "spark = SparkSession.builder.master(\"local[4]\").appName(\"giveatry\").getOrCreate()"
   ]
  },
  {
   "cell_type": "code",
   "execution_count": 5,
   "id": "43f586e2",
   "metadata": {},
   "outputs": [],
   "source": [
    "sc = spark.sparkContext"
   ]
  },
  {
   "cell_type": "code",
   "execution_count": 25,
   "id": "8befaeb2",
   "metadata": {},
   "outputs": [],
   "source": [
    "veri_seti =\"C:\\\\Users\\\\brhng\\\\Desktop\\\\ibbdata-lojistic.txt\""
   ]
  },
  {
   "cell_type": "code",
   "execution_count": 26,
   "id": "217962de",
   "metadata": {},
   "outputs": [],
   "source": [
    "istac_rdd =sc.textFile(veri_seti)"
   ]
  },
  {
   "cell_type": "code",
   "execution_count": 27,
   "id": "c52cf2fb",
   "metadata": {},
   "outputs": [
    {
     "data": {
      "text/plain": [
       "6"
      ]
     },
     "execution_count": 27,
     "metadata": {},
     "output_type": "execute_result"
    }
   ],
   "source": [
    "istac_rdd.count() #satır sayısı"
   ]
  },
  {
   "cell_type": "code",
   "execution_count": 28,
   "id": "0704ed91",
   "metadata": {},
   "outputs": [
    {
     "data": {
      "text/plain": [
       "['“ Dış İstasyon” çalışmasının amacı çalışma sınırları içerisinde ikamet eden veya etmeyen ancak İstanbul ulaşımı ağına giren, çıkan ya da transit geçen seyahatlerin oranı ve yönünü tespit etmektir.',\n",
       " '',\n",
       " 'Dış istasyon çalışmalarında “Dıştan – Dışa” trafik akımı incelenmiştir. ',\n",
       " '',\n",
       " 'İstanbul Lojistik Ana planı kapsamında ağır yük taşıyan sürücü anketleri ve araç sayımları; ağır tonajlı araçlar, kamyonet, kamyon ve diğer yük araçlarının kullanmak zorunda olduğu ‘Yavuz Sultan Selim Köprüsü’ güzergahında kentin doğu ve batı yakalarında gerçekleşmiştir.']"
      ]
     },
     "execution_count": 28,
     "metadata": {},
     "output_type": "execute_result"
    }
   ],
   "source": [
    "istac_rdd.take(5)"
   ]
  },
  {
   "cell_type": "code",
   "execution_count": 29,
   "id": "3b7e41de",
   "metadata": {},
   "outputs": [],
   "source": [
    "istac_rdd_kelimeler = istac_rdd.flatMap(lambda satir: satir.split(\" \"))"
   ]
  },
  {
   "cell_type": "code",
   "execution_count": 30,
   "id": "6a7ee760",
   "metadata": {},
   "outputs": [
    {
     "data": {
      "text/plain": [
       "['“', 'Dış', 'İstasyon”', 'çalışmasının', 'amacı']"
      ]
     },
     "execution_count": 30,
     "metadata": {},
     "output_type": "execute_result"
    }
   ],
   "source": [
    "istac_rdd_kelimeler.take(5)"
   ]
  },
  {
   "cell_type": "code",
   "execution_count": 31,
   "id": "e41f0958",
   "metadata": {},
   "outputs": [],
   "source": [
    "istac_rdd_kelimeler_sayilari = istac_rdd_kelimeler.map(lambda kelime:(kelime,1)) #wordcount"
   ]
  },
  {
   "cell_type": "code",
   "execution_count": 32,
   "id": "e5a846dd",
   "metadata": {},
   "outputs": [
    {
     "data": {
      "text/plain": [
       "[('“', 1), ('Dış', 1), ('İstasyon”', 1), ('çalışmasının', 1), ('amacı', 1)]"
      ]
     },
     "execution_count": 32,
     "metadata": {},
     "output_type": "execute_result"
    }
   ],
   "source": [
    "istac_rdd_kelimeler_sayilari.take(5)"
   ]
  },
  {
   "cell_type": "code",
   "execution_count": 39,
   "id": "ec7e1305",
   "metadata": {},
   "outputs": [],
   "source": [
    "istac_rdd_kelimeler_sayilar_reduce = istac_rdd_kelimeler_sayilari.reduceByKey(lambda x,y:(x+y))"
   ]
  },
  {
   "cell_type": "code",
   "execution_count": 48,
   "id": "f63b9989",
   "metadata": {},
   "outputs": [
    {
     "data": {
      "text/plain": [
       "PythonRDD[40] at RDD at PythonRDD.scala:53"
      ]
     },
     "execution_count": 48,
     "metadata": {},
     "output_type": "execute_result"
    }
   ],
   "source": [
    "istac_rdd_kelimeler_sayilar_reduce"
   ]
  },
  {
   "cell_type": "code",
   "execution_count": 60,
   "id": "9e0e9800",
   "metadata": {},
   "outputs": [],
   "source": [
    "istac_rdd_kelimeler_sayilar_reduce_sort = istac_rdd_kelimeler_sayilar_reduce.map(lambda x:(x[1],x[0]))"
   ]
  },
  {
   "cell_type": "code",
   "execution_count": 62,
   "id": "c9ba6983",
   "metadata": {},
   "outputs": [
    {
     "data": {
      "text/plain": [
       "[(1, '“'), (2, 'Dış'), (1, 'sınırları'), (1, 'içerisinde'), (1, 'etmeyen')]"
      ]
     },
     "execution_count": 62,
     "metadata": {},
     "output_type": "execute_result"
    }
   ],
   "source": [
    "istac_rdd_kelimeler_sayilar_reduce_sort.take(5)"
   ]
  },
  {
   "cell_type": "code",
   "execution_count": 63,
   "id": "dd9a26ac",
   "metadata": {},
   "outputs": [
    {
     "data": {
      "text/plain": [
       "[(4, 've'),\n",
       " (4, ''),\n",
       " (2, 'Dış'),\n",
       " (2, 'ağır'),\n",
       " (2, 'yük'),\n",
       " (2, 'İstanbul'),\n",
       " (1, '“'),\n",
       " (1, 'sınırları'),\n",
       " (1, 'içerisinde'),\n",
       " (1, 'etmeyen'),\n",
       " (1, 'ulaşımı'),\n",
       " (1, 'çıkan'),\n",
       " (1, 'ya'),\n",
       " (1, 'da'),\n",
       " (1, 'transit'),\n",
       " (1, 'geçen'),\n",
       " (1, 'yönünü'),\n",
       " (1, 'tespit'),\n",
       " (1, 'çalışmalarında'),\n",
       " (1, '“Dıştan')]"
      ]
     },
     "execution_count": 63,
     "metadata": {},
     "output_type": "execute_result"
    }
   ],
   "source": [
    "istac_rdd_kelimeler_sayilar_reduce_sort.sortByKey(False).take(20)"
   ]
  },
  {
   "cell_type": "code",
   "execution_count": null,
   "id": "8999ddf9",
   "metadata": {},
   "outputs": [],
   "source": []
  }
 ],
 "metadata": {
  "kernelspec": {
   "display_name": "Python 3 (ipykernel)",
   "language": "python",
   "name": "python3"
  },
  "language_info": {
   "codemirror_mode": {
    "name": "ipython",
    "version": 3
   },
   "file_extension": ".py",
   "mimetype": "text/x-python",
   "name": "python",
   "nbconvert_exporter": "python",
   "pygments_lexer": "ipython3",
   "version": "3.9.7"
  }
 },
 "nbformat": 4,
 "nbformat_minor": 5
}
